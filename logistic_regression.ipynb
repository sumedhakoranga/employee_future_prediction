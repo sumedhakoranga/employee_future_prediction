{
  "cells": [
    {
      "cell_type": "markdown",
      "metadata": {
        "colab_type": "text",
        "id": "view-in-github"
      },
      "source": [
        "<a href=\"https://colab.research.google.com/github/sumedhakoranga/employee_future_prediction/blob/main/logistic_regression.ipynb\" target=\"_parent\"><img src=\"https://colab.research.google.com/assets/colab-badge.svg\" alt=\"Open In Colab\"/></a>"
      ]
    },
    {
      "cell_type": "markdown",
      "metadata": {
        "id": "mcM-_dk5mW1o"
      },
      "source": [
        "Dataset link: https://www.kaggle.com/tejashvi14/employee-future-prediction"
      ]
    },
    {
      "cell_type": "markdown",
      "metadata": {
        "id": "JeaWzz_okykZ"
      },
      "source": [
        "# Uploading dataset"
      ]
    },
    {
      "cell_type": "code",
      "execution_count": null,
      "metadata": {
        "colab": {
          "base_uri": "https://localhost:8080/",
          "height": 73,
          "resources": {
            "http://localhost:8080/nbextensions/google.colab/files.js": {
              "data": "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",
              "headers": [
                [
                  "content-type",
                  "application/javascript"
                ]
              ],
              "ok": true,
              "status": 200,
              "status_text": "OK"
            }
          }
        },
        "id": "3pqwSfccmW1r",
        "outputId": "054dbf09-60f6-4763-c9b9-aed7f7829074"
      },
      "outputs": [
        {
          "data": {
            "text/html": [
              "\n",
              "     <input type=\"file\" id=\"files-fa63e437-24b1-4902-ba8b-ff7a566fd2c4\" name=\"files[]\" multiple disabled\n",
              "        style=\"border:none\" />\n",
              "     <output id=\"result-fa63e437-24b1-4902-ba8b-ff7a566fd2c4\">\n",
              "      Upload widget is only available when the cell has been executed in the\n",
              "      current browser session. Please rerun this cell to enable.\n",
              "      </output>\n",
              "      <script src=\"/nbextensions/google.colab/files.js\"></script> "
            ],
            "text/plain": [
              "<IPython.core.display.HTML object>"
            ]
          },
          "metadata": {},
          "output_type": "display_data"
        },
        {
          "name": "stdout",
          "output_type": "stream",
          "text": [
            "Saving Employee.csv to Employee.csv\n"
          ]
        }
      ],
      "source": [
        "from google.colab import files\n",
        "\n",
        "uploaded = files.upload()"
      ]
    },
    {
      "cell_type": "markdown",
      "metadata": {
        "id": "fFSilK-Wk1JP"
      },
      "source": [
        "# Initialization"
      ]
    },
    {
      "cell_type": "code",
      "execution_count": null,
      "metadata": {
        "id": "oP7WGvyQmW1t"
      },
      "outputs": [],
      "source": [
        "import pandas as pd\n",
        "import numpy as np\n",
        "\n",
        "from itertools import product\n",
        "\n",
        "from sklearn.model_selection import train_test_split\n",
        "from sklearn.compose import ColumnTransformer\n",
        "from sklearn.pipeline import Pipeline\n",
        "from sklearn.impute import SimpleImputer\n",
        "from sklearn.preprocessing import OneHotEncoder\n",
        "from sklearn.linear_model import LogisticRegression\n",
        "\n",
        "import warnings\n",
        "warnings.filterwarnings(\"ignore\")"
      ]
    },
    {
      "cell_type": "code",
      "execution_count": null,
      "metadata": {
        "id": "LDJKeN4QmW1u"
      },
      "outputs": [],
      "source": [
        "df = pd.read_csv('Employee.csv')\n",
        "\n",
        "X = df.drop(['LeaveOrNot'], axis=1)\n",
        "y = df['LeaveOrNot']"
      ]
    },
    {
      "cell_type": "markdown",
      "metadata": {
        "id": "jSchzie2hlDc"
      },
      "source": [
        "# Preparing data"
      ]
    },
    {
      "cell_type": "code",
      "execution_count": null,
      "metadata": {
        "id": "jWDraDUUmW1w"
      },
      "outputs": [],
      "source": [
        "X_full_train, X_test, y_full_train, y_test = train_test_split(X, y, test_size=0.2, random_state=42)\n",
        "X_train, X_val, y_train, y_val = train_test_split(X_full_train, y_full_train, test_size=0.25, random_state=42)"
      ]
    },
    {
      "cell_type": "code",
      "execution_count": null,
      "metadata": {
        "id": "XSMgTEjUh8BE"
      },
      "outputs": [],
      "source": [
        "numerical = ['Age']\n",
        "categorical = ['Education', 'JoiningYear', 'City', 'PaymentTier', 'Gender', 'EverBenched', 'ExperienceInCurrentDomain']"
      ]
    },
    {
      "cell_type": "markdown",
      "metadata": {
        "id": "7thrHHTSqHoW"
      },
      "source": [
        "# Creating a Pipeline"
      ]
    },
    {
      "cell_type": "code",
      "execution_count": null,
      "metadata": {
        "id": "BfrXkCCF1iBQ"
      },
      "outputs": [],
      "source": [
        "def create_new_pipeline(params):\n",
        "    numerical_transformer = SimpleImputer(strategy='median')\n",
        "\n",
        "    categorical_transformer = Pipeline(steps=[\n",
        "        ('imputer', SimpleImputer(strategy='most_frequent')),\n",
        "        ('encoding', OneHotEncoder(drop='first'))\n",
        "    ])\n",
        "\n",
        "    preprocessor = ColumnTransformer(\n",
        "    transformers=[\n",
        "        ('numerical', numerical_transformer, numerical),\n",
        "        ('categorical', categorical_transformer, categorical)\n",
        "    ])\n",
        "\n",
        "    model = LogisticRegression(\n",
        "        penalty='elasticnet',\n",
        "        solver='saga',\n",
        "        random_state=42,\n",
        "        **params\n",
        "    )\n",
        "\n",
        "    pipeline = Pipeline(\n",
        "    steps=[\n",
        "           ('preprocessing', preprocessor),\n",
        "           ('model', model)\n",
        "          ]\n",
        "    )\n",
        "\n",
        "    return pipeline"
      ]
    },
    {
      "cell_type": "markdown",
      "metadata": {
        "id": "JNN8N6L_scqh"
      },
      "source": [
        "# Hyperparameter Tuning"
      ]
    },
    {
      "cell_type": "code",
      "execution_count": null,
      "metadata": {
        "id": "CN8t5VU_swei"
      },
      "outputs": [],
      "source": [
        "search_space = {\n",
        "    'C': [0.1, 0.5, 1, 5, 10],\n",
        "    'l1_ratio': np.linspace(0, 1, num=10)\n",
        "}"
      ]
    },
    {
      "cell_type": "code",
      "execution_count": null,
      "metadata": {
        "colab": {
          "base_uri": "https://localhost:8080/"
        },
        "id": "P-caHFzi1IqR",
        "outputId": "f704f85a-7459-44bd-9812-d8fcba0beaae"
      },
      "outputs": [
        {
          "name": "stdout",
          "output_type": "stream",
          "text": [
            "{'C': 0.1, 'l1_ratio': 0.0}\n",
            "Score: 0.8088077336197637\tBest score: 0.8088077336197637\n",
            "{'C': 0.1, 'l1_ratio': 0.1111111111111111}\n",
            "Score: 0.8066595059076263\tBest score: 0.8088077336197637\n",
            "{'C': 0.1, 'l1_ratio': 0.2222222222222222}\n",
            "Score: 0.8088077336197637\tBest score: 0.8088077336197637\n",
            "{'C': 0.1, 'l1_ratio': 0.3333333333333333}\n",
            "Score: 0.807733619763695\tBest score: 0.8088077336197637\n",
            "{'C': 0.1, 'l1_ratio': 0.4444444444444444}\n",
            "Score: 0.8088077336197637\tBest score: 0.8088077336197637\n",
            "{'C': 0.1, 'l1_ratio': 0.5555555555555556}\n",
            "Score: 0.8088077336197637\tBest score: 0.8088077336197637\n",
            "{'C': 0.1, 'l1_ratio': 0.6666666666666666}\n",
            "Score: 0.807733619763695\tBest score: 0.8088077336197637\n",
            "{'C': 0.1, 'l1_ratio': 0.7777777777777777}\n",
            "Score: 0.8088077336197637\tBest score: 0.8088077336197637\n",
            "{'C': 0.1, 'l1_ratio': 0.8888888888888888}\n",
            "Score: 0.8066595059076263\tBest score: 0.8088077336197637\n",
            "{'C': 0.1, 'l1_ratio': 1.0}\n",
            "Score: 0.807733619763695\tBest score: 0.8088077336197637\n",
            "{'C': 0.5, 'l1_ratio': 0.0}\n",
            "Score: 0.8120300751879699\tBest score: 0.8120300751879699\n",
            "{'C': 0.5, 'l1_ratio': 0.1111111111111111}\n",
            "Score: 0.8120300751879699\tBest score: 0.8120300751879699\n",
            "{'C': 0.5, 'l1_ratio': 0.2222222222222222}\n",
            "Score: 0.8109559613319012\tBest score: 0.8120300751879699\n",
            "{'C': 0.5, 'l1_ratio': 0.3333333333333333}\n",
            "Score: 0.8109559613319012\tBest score: 0.8120300751879699\n",
            "{'C': 0.5, 'l1_ratio': 0.4444444444444444}\n",
            "Score: 0.8109559613319012\tBest score: 0.8120300751879699\n",
            "{'C': 0.5, 'l1_ratio': 0.5555555555555556}\n",
            "Score: 0.8109559613319012\tBest score: 0.8120300751879699\n",
            "{'C': 0.5, 'l1_ratio': 0.6666666666666666}\n",
            "Score: 0.8109559613319012\tBest score: 0.8120300751879699\n",
            "{'C': 0.5, 'l1_ratio': 0.7777777777777777}\n",
            "Score: 0.8109559613319012\tBest score: 0.8120300751879699\n",
            "{'C': 0.5, 'l1_ratio': 0.8888888888888888}\n",
            "Score: 0.8109559613319012\tBest score: 0.8120300751879699\n",
            "{'C': 0.5, 'l1_ratio': 1.0}\n",
            "Score: 0.8109559613319012\tBest score: 0.8120300751879699\n",
            "{'C': 1, 'l1_ratio': 0.0}\n",
            "Score: 0.8120300751879699\tBest score: 0.8120300751879699\n",
            "{'C': 1, 'l1_ratio': 0.1111111111111111}\n",
            "Score: 0.8120300751879699\tBest score: 0.8120300751879699\n",
            "{'C': 1, 'l1_ratio': 0.2222222222222222}\n",
            "Score: 0.8120300751879699\tBest score: 0.8120300751879699\n",
            "{'C': 1, 'l1_ratio': 0.3333333333333333}\n",
            "Score: 0.8120300751879699\tBest score: 0.8120300751879699\n",
            "{'C': 1, 'l1_ratio': 0.4444444444444444}\n",
            "Score: 0.8120300751879699\tBest score: 0.8120300751879699\n",
            "{'C': 1, 'l1_ratio': 0.5555555555555556}\n",
            "Score: 0.8120300751879699\tBest score: 0.8120300751879699\n",
            "{'C': 1, 'l1_ratio': 0.6666666666666666}\n",
            "Score: 0.8120300751879699\tBest score: 0.8120300751879699\n",
            "{'C': 1, 'l1_ratio': 0.7777777777777777}\n",
            "Score: 0.8109559613319012\tBest score: 0.8120300751879699\n",
            "{'C': 1, 'l1_ratio': 0.8888888888888888}\n",
            "Score: 0.8109559613319012\tBest score: 0.8120300751879699\n",
            "{'C': 1, 'l1_ratio': 1.0}\n",
            "Score: 0.8109559613319012\tBest score: 0.8120300751879699\n",
            "{'C': 5, 'l1_ratio': 0.0}\n",
            "Score: 0.8120300751879699\tBest score: 0.8120300751879699\n",
            "{'C': 5, 'l1_ratio': 0.1111111111111111}\n",
            "Score: 0.8120300751879699\tBest score: 0.8120300751879699\n",
            "{'C': 5, 'l1_ratio': 0.2222222222222222}\n",
            "Score: 0.8120300751879699\tBest score: 0.8120300751879699\n",
            "{'C': 5, 'l1_ratio': 0.3333333333333333}\n",
            "Score: 0.8120300751879699\tBest score: 0.8120300751879699\n",
            "{'C': 5, 'l1_ratio': 0.4444444444444444}\n",
            "Score: 0.8120300751879699\tBest score: 0.8120300751879699\n",
            "{'C': 5, 'l1_ratio': 0.5555555555555556}\n",
            "Score: 0.8120300751879699\tBest score: 0.8120300751879699\n",
            "{'C': 5, 'l1_ratio': 0.6666666666666666}\n",
            "Score: 0.8120300751879699\tBest score: 0.8120300751879699\n",
            "{'C': 5, 'l1_ratio': 0.7777777777777777}\n",
            "Score: 0.8120300751879699\tBest score: 0.8120300751879699\n",
            "{'C': 5, 'l1_ratio': 0.8888888888888888}\n",
            "Score: 0.8120300751879699\tBest score: 0.8120300751879699\n",
            "{'C': 5, 'l1_ratio': 1.0}\n",
            "Score: 0.8120300751879699\tBest score: 0.8120300751879699\n",
            "{'C': 10, 'l1_ratio': 0.0}\n",
            "Score: 0.8120300751879699\tBest score: 0.8120300751879699\n",
            "{'C': 10, 'l1_ratio': 0.1111111111111111}\n",
            "Score: 0.8120300751879699\tBest score: 0.8120300751879699\n",
            "{'C': 10, 'l1_ratio': 0.2222222222222222}\n",
            "Score: 0.8120300751879699\tBest score: 0.8120300751879699\n",
            "{'C': 10, 'l1_ratio': 0.3333333333333333}\n",
            "Score: 0.8120300751879699\tBest score: 0.8120300751879699\n",
            "{'C': 10, 'l1_ratio': 0.4444444444444444}\n",
            "Score: 0.8120300751879699\tBest score: 0.8120300751879699\n",
            "{'C': 10, 'l1_ratio': 0.5555555555555556}\n",
            "Score: 0.8120300751879699\tBest score: 0.8120300751879699\n",
            "{'C': 10, 'l1_ratio': 0.6666666666666666}\n",
            "Score: 0.8120300751879699\tBest score: 0.8120300751879699\n",
            "{'C': 10, 'l1_ratio': 0.7777777777777777}\n",
            "Score: 0.8120300751879699\tBest score: 0.8120300751879699\n",
            "{'C': 10, 'l1_ratio': 0.8888888888888888}\n",
            "Score: 0.8120300751879699\tBest score: 0.8120300751879699\n",
            "{'C': 10, 'l1_ratio': 1.0}\n",
            "Score: 0.8120300751879699\tBest score: 0.8120300751879699\n"
          ]
        }
      ],
      "source": [
        "max_score = 0\n",
        "best_params = {}\n",
        "\n",
        "for val in product(*search_space.values()):\n",
        "    params = {}\n",
        "    for i, param in enumerate(search_space.keys()):\n",
        "        params[param] = val[i]\n",
        "    print(params)\n",
        "\n",
        "    pipeline = create_new_pipeline(params)\n",
        "\n",
        "    pipeline.fit(X_train, y_train)\n",
        "\n",
        "    score = pipeline.score(X_val, y_val)\n",
        "    if score > max_score:\n",
        "        max_score = score\n",
        "        best_params = params\n",
        "    print(f'Score: {score}\\tBest score: {max_score}')"
      ]
    },
    {
      "cell_type": "code",
      "execution_count": null,
      "metadata": {
        "colab": {
          "base_uri": "https://localhost:8080/"
        },
        "id": "fHbclr9k12j1",
        "outputId": "4030c1ff-ffae-4ea0-f69a-0bdd6edf8f85"
      },
      "outputs": [
        {
          "data": {
            "text/plain": [
              "{'C': 0.5, 'l1_ratio': 0.0}"
            ]
          },
          "execution_count": 9,
          "metadata": {},
          "output_type": "execute_result"
        }
      ],
      "source": [
        "best_params"
      ]
    },
    {
      "cell_type": "code",
      "execution_count": null,
      "metadata": {
        "colab": {
          "base_uri": "https://localhost:8080/"
        },
        "id": "2CWSYOrq34gT",
        "outputId": "50633992-3bde-49aa-fda8-9654d7247952"
      },
      "outputs": [
        {
          "data": {
            "text/plain": [
              "0.8120300751879699"
            ]
          },
          "execution_count": 10,
          "metadata": {},
          "output_type": "execute_result"
        }
      ],
      "source": [
        "max_score"
      ]
    },
    {
      "cell_type": "markdown",
      "metadata": {
        "id": "N_iyKr79qX5v"
      },
      "source": [
        "# Training"
      ]
    },
    {
      "cell_type": "code",
      "execution_count": null,
      "metadata": {
        "id": "W-u_3UM04RwA"
      },
      "outputs": [],
      "source": [
        "pipeline = create_new_pipeline(best_params)"
      ]
    },
    {
      "cell_type": "code",
      "execution_count": null,
      "metadata": {
        "colab": {
          "base_uri": "https://localhost:8080/"
        },
        "id": "hyghpXFjnQtX",
        "outputId": "f053ce7e-ea50-4938-dc1a-0bbde799a69c"
      },
      "outputs": [
        {
          "data": {
            "text/plain": [
              "Pipeline(steps=[('preprocessing',\n",
              "                 ColumnTransformer(transformers=[('numerical',\n",
              "                                                  SimpleImputer(strategy='median'),\n",
              "                                                  ['Age']),\n",
              "                                                 ('categorical',\n",
              "                                                  Pipeline(steps=[('imputer',\n",
              "                                                                   SimpleImputer(strategy='most_frequent')),\n",
              "                                                                  ('encoding',\n",
              "                                                                   OneHotEncoder(drop='first'))]),\n",
              "                                                  ['Education', 'JoiningYear',\n",
              "                                                   'City', 'PaymentTier',\n",
              "                                                   'Gender', 'EverBenched',\n",
              "                                                   'ExperienceInCurrentDomain'])])),\n",
              "                ('model',\n",
              "                 LogisticRegression(C=0.5, l1_ratio=0.0, penalty='elasticnet',\n",
              "                                    random_state=42, solver='saga'))])"
            ]
          },
          "execution_count": 12,
          "metadata": {},
          "output_type": "execute_result"
        }
      ],
      "source": [
        "pipeline.fit(X_full_train, y_full_train)"
      ]
    },
    {
      "cell_type": "markdown",
      "metadata": {
        "id": "FAa8j_goqaaD"
      },
      "source": [
        "# Validation"
      ]
    },
    {
      "cell_type": "code",
      "execution_count": null,
      "metadata": {
        "colab": {
          "base_uri": "https://localhost:8080/"
        },
        "id": "wRNIeVUjnbbG",
        "outputId": "a4b96c07-806d-4d16-f712-78080f8a6f60"
      },
      "outputs": [
        {
          "data": {
            "text/plain": [
              "0.8011821601289629"
            ]
          },
          "execution_count": 13,
          "metadata": {},
          "output_type": "execute_result"
        }
      ],
      "source": [
        "pipeline.score(X_full_train, y_full_train)"
      ]
    }
  ],
  "metadata": {
    "colab": {
      "authorship_tag": "ABX9TyNDwwxl2v0RHm4N+rcsw1mw",
      "collapsed_sections": [],
      "include_colab_link": true,
      "name": "employee_future_logistic_regression.ipynb",
      "provenance": []
    },
    "kernelspec": {
      "display_name": "Python 3",
      "name": "python3"
    },
    "language_info": {
      "name": "python"
    }
  },
  "nbformat": 4,
  "nbformat_minor": 0
}
